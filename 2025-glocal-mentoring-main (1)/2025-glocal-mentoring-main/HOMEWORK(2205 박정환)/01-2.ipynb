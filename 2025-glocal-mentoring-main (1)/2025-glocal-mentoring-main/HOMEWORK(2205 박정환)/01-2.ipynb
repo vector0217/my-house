{
 "cells": [
  {
   "cell_type": "markdown",
   "metadata": {},
   "source": [
    "## 📝 문제 1. 사탕 최대한 많이 먹기\n",
    "\n",
    "#### 🔸 문제 설명\n",
    "여러 개의 사탕이 일렬로 놓여 있고, 각각을 먹는 데 걸리는 시간이 다릅니다.\n",
    "\n",
    "**총 K초**가 주어졌을 때, 시간 안에 먹을 수 있는 **최대 사탕 개수**를 리턴하는 함수를 완성해주세요.\n",
    "\n",
    "단, 사탕은 먹는 순서를 자유롭게 바꿀 수 있습니다. \n",
    "즉, **시간이 적게 걸리는 사탕부터 먹는 것이 가장 유리합니다.**\n",
    "\n",
    "#### 🔸 입력\n",
    "- 사탕 시간 리스트: 정수 리스트 (예: [2, 1, 3, 1, 2])\n",
    "- 제한 시간 K: 정수 (예: 5)\n",
    "\n",
    "#### 🔸 출력\n",
    "- 제한 시간 내에 먹을 수 있는 사탕의 최대 개수 (정수)\n",
    "\n",
    "#### 📌 예시\n",
    "**입력:**\n",
    "```python\n",
    "candy_times = [2, 1, 3, 1, 2]\n",
    "K = 5\n",
    "```\n",
    "**출력:**\n",
    "```\n",
    "3\n",
    "```\n",
    "(1초짜리 2개 + 2초짜리 1개 = 총 4초 사용)"
   ]
  },
  {
   "cell_type": "markdown",
   "metadata": {},
   "source": [
    "함수를 완성시켜주세요!"
   ]
  },
  {
   "cell_type": "code",
   "execution_count": null,
   "metadata": {},
   "outputs": [
    {
     "name": "stdout",
     "output_type": "stream",
     "text": [
      "최대로 먹을 수 있는 사탕 개수: 3\n"
     ]
    }
   ],
   "source": [
    "# 최소 시간부터 먹으며 제한 시간 K를 초과하지 않게 먹기 [ 함수를 완성해 주세요. ]\n",
    "def max_candies(candy_times, k):\n",
    "    sorted_times = sorted(candy_times)\n",
    "    total_time = 0\n",
    "    answer = 0\n",
    "    for t in sorted_times:\n",
    "        if total_time + t <= k:\n",
    "            total_time += t\n",
    "            answer += 1\n",
    "        else:\n",
    "            break\n",
    "    return answer # 제한 시간 내에 먹을 수 있는 사탕의 최대 개수 (정수) 리턴\n",
    "\n",
    "\n",
    "\n",
    "times_input = input(\"사탕 시간 리스트를 입력하세요 (예: 2,1,3,1,2): \") # 1. 사용자의 입력 받기\n",
    "candy_times = list(map(int, times_input.split(',')))           # ',' 을 구분해서 리스트로 저장\n",
    "K = int(input(\"제한 시간(K)을 입력하세요: \"))                        # 2. 제한시간 K 값 입력\n",
    "result = max_candies(candy_times, K)                           # 3. max_candes() 함수 호출\n",
    "print(f\"최대로 먹을 수 있는 사탕 개수: {result}\")                     # 4. 결과 출력\n"
   ]
  }
 ],
 "metadata": {
  "kernelspec": {
   "display_name": "Python 3",
   "language": "python",
   "name": "python3"
  },
  "language_info": {
   "codemirror_mode": {
    "name": "ipython",
    "version": 3
   },
   "file_extension": ".py",
   "mimetype": "text/x-python",
   "name": "python",
   "nbconvert_exporter": "python",
   "pygments_lexer": "ipython3",
   "version": "3.12.3"
  }
 },
 "nbformat": 4,
 "nbformat_minor": 2
}
