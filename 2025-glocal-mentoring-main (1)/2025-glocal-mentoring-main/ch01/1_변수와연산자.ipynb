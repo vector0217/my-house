{
 "cells": [
  {
   "cell_type": "markdown",
   "id": "13dae0f3",
   "metadata": {},
   "source": [
    "### 변수 선언과 데이터 타입\n"
   ]
  },
  {
   "cell_type": "code",
   "execution_count": 10,
   "id": "7eb06b1d",
   "metadata": {},
   "outputs": [
    {
     "name": "stdout",
     "output_type": "stream",
     "text": [
      "<class 'int'>\n",
      "<class 'float'>\n",
      "<class 'str'>\n",
      "<class 'bool'>\n"
     ]
    }
   ],
   "source": [
    "#변수 선언 및 할당\n",
    "x = 10  # 정수형 변수\n",
    "y = 3.14  # 실수형 변수\n",
    "name = \"Alice\"  # 문자열 변수\n",
    "is_student = True  # 불리언 변수\n",
    "\n",
    "# 변수의 데이터 타입 확인\n",
    "print(type(x))  # <class 'int'>\n",
    "print(type(y))  # <class 'float'>\n",
    "print(type(name))  # <class 'str'>\n",
    "print(type(is_student))  # <class 'bool'>"
   ]
  },
  {
   "cell_type": "markdown",
   "id": "9258cff2",
   "metadata": {},
   "source": [
    "### 문자열 변수 조작과 출력\n"
   ]
  },
  {
   "cell_type": "code",
   "execution_count": 11,
   "id": "619b1be2",
   "metadata": {},
   "outputs": [
    {
     "name": "stdout",
     "output_type": "stream",
     "text": [
      "John Doe\n",
      "8\n"
     ]
    }
   ],
   "source": [
    "first_name = \"John\"\n",
    "last_name = \"Doe\"\n",
    "full_name = first_name + \" \" + last_name  # \"John Doe\"\n",
    "\n",
    "print(full_name)\n",
    "print(len(full_name))  # 문자열 길이"
   ]
  },
  {
   "cell_type": "markdown",
   "id": "c588661e",
   "metadata": {},
   "source": [
    "### 파이썬의 연산자\n"
   ]
  },
  {
   "cell_type": "code",
   "execution_count": 12,
   "id": "76a07c58",
   "metadata": {},
   "outputs": [
    {
     "name": "stdout",
     "output_type": "stream",
     "text": [
      "13\n",
      "7\n",
      "30\n",
      "3.3333333333333335\n",
      "3\n",
      "1\n",
      "1000\n",
      "False\n",
      "True\n",
      "True\n",
      "False\n",
      "True\n",
      "False\n"
     ]
    }
   ],
   "source": [
    "x = 10\n",
    "y = 3\n",
    "\n",
    "print(x + y)  # 덧셈: 13\n",
    "print(x - y)  # 뺄셈: 7\n",
    "print(x * y)  # 곱셈: 30\n",
    "print(x / y)  # 나눗셈: 3.3333...\n",
    "print(x // y)  # 몫: 3\n",
    "print(x % y)  # 나머지: 1\n",
    "print(x ** y)  # 거듭제곱: 1000\n",
    "\n",
    "print(x == y)  # 같음: False\n",
    "print(x != y)  # 같지 않음: True\n",
    "print(x > y)  # 큼: True\n",
    "print(x < y)  # 작음: False\n",
    "print(x >= y)  # 크거나 같음: True\n",
    "print(x <= y)  # 작거나 같음: False"
   ]
  },
  {
   "cell_type": "markdown",
   "id": "12c95750",
   "metadata": {},
   "source": [
    "### 논리연산자\n"
   ]
  },
  {
   "cell_type": "code",
   "execution_count": null,
   "id": "fbbd71f6",
   "metadata": {},
   "outputs": [],
   "source": [
    "a = True\n",
    "b = False\n",
    "\n",
    "print(a and b)  # 논리곱: False\n",
    "print(a or b)  # 논리합: True\n",
    "print(not a)  # 부정: False"
   ]
  }
 ],
 "metadata": {
  "kernelspec": {
   "display_name": ".venv",
   "language": "python",
   "name": "python3"
  },
  "language_info": {
   "codemirror_mode": {
    "name": "ipython",
    "version": 3
   },
   "file_extension": ".py",
   "mimetype": "text/x-python",
   "name": "python",
   "nbconvert_exporter": "python",
   "pygments_lexer": "ipython3",
   "version": "3.13.3"
  }
 },
 "nbformat": 4,
 "nbformat_minor": 5
}
