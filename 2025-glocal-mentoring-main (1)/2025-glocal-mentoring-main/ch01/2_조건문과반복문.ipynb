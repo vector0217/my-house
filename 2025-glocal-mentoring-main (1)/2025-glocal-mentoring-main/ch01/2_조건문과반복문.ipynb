{
 "cells": [
  {
   "cell_type": "markdown",
   "id": "8bd03ba4",
   "metadata": {},
   "source": [
    "## 조건문"
   ]
  },
  {
   "cell_type": "code",
   "execution_count": null,
   "id": "3e233c98",
   "metadata": {},
   "outputs": [],
   "source": [
    "age = 18\n",
    "\n",
    "if age >= 20:\n",
    "    print(\"성인입니다.\")\n",
    "elif age >= 13:\n",
    "    print(\"청소년입니다.\")\n",
    "else:\n",
    "    print(\"어린이입니다.\")"
   ]
  },
  {
   "cell_type": "markdown",
   "id": "748b0216",
   "metadata": {},
   "source": [
    "#### ✨ 추가 실습: 나이에 따라 입장료 구하기"
   ]
  },
  {
   "cell_type": "code",
   "execution_count": null,
   "id": "eb26f4a8",
   "metadata": {},
   "outputs": [],
   "source": [
    "age = int(input(\"나이를 입력하세요: \"))\n",
    "\n",
    "if age < 8:\n",
    "    print(\"입장료는 0원입니다.\")\n",
    "elif age < 19:\n",
    "    print(\"입장료는 3000원입니다.\")\n",
    "else:\n",
    "    print(\"입장료는 5000원입니다.\")"
   ]
  },
  {
   "cell_type": "markdown",
   "id": "e43b3cb7",
   "metadata": {},
   "source": [
    "## 반복문 (for)"
   ]
  },
  {
   "cell_type": "code",
   "execution_count": null,
   "id": "a497e3ab",
   "metadata": {},
   "outputs": [],
   "source": [
    "\"\"\"\n",
    "fruits = [\"apple\", \"banana\", \"cherry\"]\n",
    "for fruit in fruits:\n",
    "    print(fruit)\n",
    "\n",
    "\n",
    "print(fruits[0])\n",
    "print(fruits[1])\n",
    "print(fruits[2])\n",
    "\n",
    "\"\"\"\n",
    "\n",
    "for i in range(10):\n",
    "    print(i)\n"
   ]
  },
  {
   "cell_type": "markdown",
   "id": "0470ce7a",
   "metadata": {},
   "source": [
    "#### ✨ 추가 실습: 반복문과 조건문"
   ]
  },
  {
   "cell_type": "code",
   "execution_count": null,
   "id": "c2e38b23",
   "metadata": {},
   "outputs": [],
   "source": [
    "for i in range(10):\n",
    "    if i == 5:\n",
    "        break\n",
    "    print(i)\n",
    "\n",
    "print(\"--------------------\")\n",
    "\n",
    "for i in range(10):\n",
    "    if i % 2 == 0:\n",
    "        continue\n",
    "    print(i)\n",
    "\n",
    "print(\"--------------------\")\n",
    "\n",
    "for i in range(10):\n",
    "    if i % 2 == 0:\n",
    "        pass\n",
    "    else:\n",
    "        print(i)"
   ]
  },
  {
   "cell_type": "markdown",
   "id": "02e38fca",
   "metadata": {},
   "source": [
    "#### ✨ 추가 실습: 구구단 출력"
   ]
  },
  {
   "cell_type": "code",
   "execution_count": 1,
   "id": "0f264caf",
   "metadata": {},
   "outputs": [
    {
     "name": "stdout",
     "output_type": "stream",
     "text": [
      "2 x 1 = 2\n",
      "2 x 2 = 4\n",
      "2 x 3 = 6\n",
      "2 x 4 = 8\n",
      "2 x 5 = 10\n",
      "2 x 6 = 12\n",
      "2 x 7 = 14\n",
      "2 x 8 = 16\n",
      "2 x 9 = 18\n",
      "\n",
      "3 x 1 = 3\n",
      "3 x 2 = 6\n",
      "3 x 3 = 9\n",
      "3 x 4 = 12\n",
      "3 x 5 = 15\n",
      "3 x 6 = 18\n",
      "3 x 7 = 21\n",
      "3 x 8 = 24\n",
      "3 x 9 = 27\n",
      "\n",
      "4 x 1 = 4\n",
      "4 x 2 = 8\n",
      "4 x 3 = 12\n",
      "4 x 4 = 16\n",
      "4 x 5 = 20\n",
      "4 x 6 = 24\n",
      "4 x 7 = 28\n",
      "4 x 8 = 32\n",
      "4 x 9 = 36\n",
      "\n",
      "5 x 1 = 5\n",
      "5 x 2 = 10\n",
      "5 x 3 = 15\n",
      "5 x 4 = 20\n",
      "5 x 5 = 25\n",
      "5 x 6 = 30\n",
      "5 x 7 = 35\n",
      "5 x 8 = 40\n",
      "5 x 9 = 45\n",
      "\n",
      "6 x 1 = 6\n",
      "6 x 2 = 12\n",
      "6 x 3 = 18\n",
      "6 x 4 = 24\n",
      "6 x 5 = 30\n",
      "6 x 6 = 36\n",
      "6 x 7 = 42\n",
      "6 x 8 = 48\n",
      "6 x 9 = 54\n",
      "\n",
      "7 x 1 = 7\n",
      "7 x 2 = 14\n",
      "7 x 3 = 21\n",
      "7 x 4 = 28\n",
      "7 x 5 = 35\n",
      "7 x 6 = 42\n",
      "7 x 7 = 49\n",
      "7 x 8 = 56\n",
      "7 x 9 = 63\n",
      "\n",
      "8 x 1 = 8\n",
      "8 x 2 = 16\n",
      "8 x 3 = 24\n",
      "8 x 4 = 32\n",
      "8 x 5 = 40\n",
      "8 x 6 = 48\n",
      "8 x 7 = 56\n",
      "8 x 8 = 64\n",
      "8 x 9 = 72\n",
      "\n",
      "9 x 1 = 9\n",
      "9 x 2 = 18\n",
      "9 x 3 = 27\n",
      "9 x 4 = 36\n",
      "9 x 5 = 45\n",
      "9 x 6 = 54\n",
      "9 x 7 = 63\n",
      "9 x 8 = 72\n",
      "9 x 9 = 81\n",
      "\n"
     ]
    }
   ],
   "source": [
    "for i in range(2, 10):\n",
    "    for j in range(1, 10):\n",
    "        print(f\"{i} x {j} = {i*j}\")\n",
    "    print()"
   ]
  },
  {
   "cell_type": "markdown",
   "id": "c662a65d",
   "metadata": {},
   "source": [
    "## 반복문 (while)"
   ]
  },
  {
   "cell_type": "code",
   "execution_count": 2,
   "id": "3ff8aa3a",
   "metadata": {},
   "outputs": [
    {
     "name": "stdout",
     "output_type": "stream",
     "text": [
      "0\n",
      "1\n",
      "2\n",
      "3\n",
      "4\n"
     ]
    }
   ],
   "source": [
    "count = 0\n",
    "while count < 5:\n",
    "    print(count)\n",
    "    count = count + 1"
   ]
  },
  {
   "cell_type": "markdown",
   "id": "0f99e261",
   "metadata": {},
   "source": [
    "#### ✨ 추가 실습: 사용자 입력으로 숫자 누적 더하기"
   ]
  },
  {
   "cell_type": "code",
   "execution_count": 4,
   "id": "9bfc3c83",
   "metadata": {},
   "outputs": [
    {
     "name": "stdout",
     "output_type": "stream",
     "text": [
      "현재 총합: 1\n",
      "현재 총합: 2\n",
      "현재 총합: 3\n"
     ]
    }
   ],
   "source": [
    "total = 0\n",
    "while True:\n",
    "    num = int(input(\"더할 숫자 입력 (0 입력 시 종료): \"))\n",
    "    if num == 0:\n",
    "        break\n",
    "    total += num\n",
    "    print(f\"현재 총합: {total}\")"
   ]
  }
 ],
 "metadata": {
  "kernelspec": {
   "display_name": ".venv",
   "language": "python",
   "name": "python3"
  },
  "language_info": {
   "codemirror_mode": {
    "name": "ipython",
    "version": 3
   },
   "file_extension": ".py",
   "mimetype": "text/x-python",
   "name": "python",
   "nbconvert_exporter": "python",
   "pygments_lexer": "ipython3",
   "version": "3.13.3"
  }
 },
 "nbformat": 4,
 "nbformat_minor": 5
}
