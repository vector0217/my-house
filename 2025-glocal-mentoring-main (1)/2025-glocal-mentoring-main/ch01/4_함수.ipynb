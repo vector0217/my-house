{
 "cells": [
  {
   "cell_type": "markdown",
   "id": "315d17b2",
   "metadata": {},
   "source": [
    "### 함수"
   ]
  },
  {
   "cell_type": "code",
   "execution_count": 8,
   "id": "d5e62bf6",
   "metadata": {},
   "outputs": [
    {
     "name": "stdout",
     "output_type": "stream",
     "text": [
      "Hello, World!\n"
     ]
    }
   ],
   "source": [
    "def greet():\n",
    "    print(\"Hello, World!\")\n",
    "\n",
    "\n",
    "greet()"
   ]
  },
  {
   "cell_type": "markdown",
   "id": "7c221372",
   "metadata": {},
   "source": [
    "### 함수의 인자"
   ]
  },
  {
   "cell_type": "code",
   "execution_count": null,
   "id": "da2159bc",
   "metadata": {},
   "outputs": [],
   "source": [
    "def greet(name):\n",
    "    print(f\"Hello, {name}!\")\n",
    "\n",
    "greet(\"Alice\")  # \"Hello, Alice!\" 출력"
   ]
  },
  {
   "cell_type": "markdown",
   "id": "ed067412",
   "metadata": {},
   "source": [
    "### 계산 함수 예시"
   ]
  },
  {
   "cell_type": "code",
   "execution_count": null,
   "id": "ae6940d9",
   "metadata": {},
   "outputs": [],
   "source": [
    "def add(a, b):\n",
    "    return a + b\n",
    "\n",
    "result = add(3, 5)\n",
    "print(result)  # 8 출력\n",
    "\n",
    "\n",
    "\n",
    "def square(x):\n",
    "    return x * x\n",
    "\n",
    "result = square(4)\n",
    "print(result)  # 16 출력"
   ]
  },
  {
   "cell_type": "markdown",
   "id": "a953ec30",
   "metadata": {},
   "source": [
    "### 인자의 초기값 지정"
   ]
  },
  {
   "cell_type": "code",
   "execution_count": 2,
   "id": "96c627ef",
   "metadata": {},
   "outputs": [
    {
     "name": "stdout",
     "output_type": "stream",
     "text": [
      "Hello, Guest!\n",
      "Hello, Bob!\n"
     ]
    }
   ],
   "source": [
    "def greet(name=\"Guest\"):\n",
    "    print(f\"Hello, {name}!\")\n",
    "\n",
    "greet()  # \"Hello, Guest!\" 출력\n",
    "greet(\"Bob\")  # \"Hello, Bob!\" 출력"
   ]
  },
  {
   "cell_type": "markdown",
   "id": "db5040fd",
   "metadata": {},
   "source": [
    "### 전역변수와 함수의 지역변수"
   ]
  },
  {
   "cell_type": "code",
   "execution_count": 3,
   "id": "2f9aae26",
   "metadata": {},
   "outputs": [
    {
     "name": "stdout",
     "output_type": "stream",
     "text": [
      "5\n",
      "10\n",
      "5\n"
     ]
    }
   ],
   "source": [
    "x = 10  # 전역 변수\n",
    "\n",
    "def local_scope():\n",
    "    x = 5  # 지역 변수\n",
    "    print(x)  # 5 출력\n",
    "\n",
    "def change_global():\n",
    "    global x\n",
    "    x = 5\n",
    "\n",
    "\n",
    "local_scope()\n",
    "print(x)  # 10 출력\n",
    "\n",
    "change_global()\n",
    "print(x)  # 5 출력"
   ]
  },
  {
   "cell_type": "markdown",
   "id": "4ac7a07a",
   "metadata": {},
   "source": [
    "✨ 추가 실습 1: 짝수/홀수 판별 함수"
   ]
  },
  {
   "cell_type": "code",
   "execution_count": 4,
   "id": "196f67d0",
   "metadata": {},
   "outputs": [
    {
     "name": "stdout",
     "output_type": "stream",
     "text": [
      "True\n",
      "False\n"
     ]
    }
   ],
   "source": [
    "def is_even(n):\n",
    "    return n % 2 == 0\n",
    "\n",
    "print(is_even(4))  # True\n",
    "print(is_even(5))  # False"
   ]
  },
  {
   "cell_type": "markdown",
   "id": "a2d9a6de",
   "metadata": {},
   "source": [
    "✨ 추가 실습 2: 리스트 평균 구하는 함수"
   ]
  },
  {
   "cell_type": "code",
   "execution_count": 5,
   "id": "9b1ac333",
   "metadata": {},
   "outputs": [
    {
     "name": "stdout",
     "output_type": "stream",
     "text": [
      "20.0\n"
     ]
    }
   ],
   "source": [
    "def average(numbers):\n",
    "    return sum(numbers) / len(numbers)\n",
    "\n",
    "print(average([10, 20, 30]))  # 20.0"
   ]
  },
  {
   "cell_type": "markdown",
   "id": "830fda70",
   "metadata": {},
   "source": [
    "✨ 추가 실습 3: 재귀함수로 팩토리얼 계산"
   ]
  },
  {
   "cell_type": "code",
   "execution_count": 6,
   "id": "a651a168",
   "metadata": {},
   "outputs": [
    {
     "name": "stdout",
     "output_type": "stream",
     "text": [
      "120\n"
     ]
    }
   ],
   "source": [
    "def factorial(n):\n",
    "    if n == 0:\n",
    "        return 1\n",
    "    else:\n",
    "        return n * factorial(n - 1)\n",
    "\n",
    "print(factorial(5))  # 120"
   ]
  },
  {
   "cell_type": "markdown",
   "id": "e73089a7",
   "metadata": {},
   "source": [
    "🧠 재귀함수란?\n",
    "재귀함수는 자기 자신을 다시 호출하는 함수\n",
    "문제를 작은 문제로 나눠서 반복적으로 해결하는 방식이에요.\n",
    "\n",
    "##### 📌 예시: 팩토리얼(Factorial)\n",
    "5! = 5 × 4 × 3 × 2 × 1 = 120\n",
    "재귀적으로 표현하면:\n",
    "\n",
    "복사\n",
    "편집\n",
    "5! = 5 × 4!\n",
    "4! = 4 × 3!\n",
    "3! = 3 × 2!\n",
    "2! = 2 × 1!\n",
    "1! = 1  (👉 여기가 멈추는 조건)\n",
    "즉, 5! = 5 × 4!, 4! = 4 × 3!, ..., 이런 식으로 계속 함수가 자기 자신을 부릅니다.\n",
    "\n",
    "factorial(5)\n",
    "→ 5 * factorial(4)\n",
    "        ↓\n",
    "      4 * factorial(3)\n",
    "          ↓\n",
    "        3 * factorial(2)\n",
    "            ↓\n",
    "          2 * factorial(1)\n",
    "              ↓\n",
    "            1  (여기서부터 결과를 되돌려줌!)\n",
    "계산 흐름:\n",
    "\n",
    "factorial(1) = 1\n",
    "factorial(2) = 2 * 1 = 2\n",
    "factorial(3) = 3 * 2 = 6\n",
    "factorial(4) = 4 * 6 = 24\n",
    "factorial(5) = 5 * 24 = 120\n",
    "\n",
    "#### 💡 핵심 포인트\n",
    "종료 조건(Base Case) 이 꼭 있어야 합니다.\n",
    "\n",
    "예: if n == 0: return 1\n",
    "\n",
    "없으면 무한히 계속 호출돼서 오류가 납니다.\n",
    "\n",
    "문제를 작게 쪼개서 자기 자신을 호출합니다.\n",
    "\n"
   ]
  }
 ],
 "metadata": {
  "kernelspec": {
   "display_name": ".venv",
   "language": "python",
   "name": "python3"
  },
  "language_info": {
   "codemirror_mode": {
    "name": "ipython",
    "version": 3
   },
   "file_extension": ".py",
   "mimetype": "text/x-python",
   "name": "python",
   "nbconvert_exporter": "python",
   "pygments_lexer": "ipython3",
   "version": "3.13.3"
  }
 },
 "nbformat": 4,
 "nbformat_minor": 5
}
