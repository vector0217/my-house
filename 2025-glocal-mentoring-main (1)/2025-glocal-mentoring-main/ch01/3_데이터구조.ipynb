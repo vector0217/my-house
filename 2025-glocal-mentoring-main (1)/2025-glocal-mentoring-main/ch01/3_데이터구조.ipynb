{
 "cells": [
  {
   "cell_type": "markdown",
   "id": "df2df29f",
   "metadata": {},
   "source": [
    "### 파이썬의 데이터구조 (리스트)\n",
    "- 리스트: 순서가 있고 변경 가능한 데이터 구조. 다양한 조작 메서드 제공."
   ]
  },
  {
   "cell_type": "code",
   "execution_count": 5,
   "id": "24d66db4",
   "metadata": {},
   "outputs": [
    {
     "name": "stdout",
     "output_type": "stream",
     "text": [
      "apple\n",
      "['apple', 'blueberry', 'cherry']\n",
      "['apple', 'blueberry', 'cherry', 'orange']\n",
      "['blueberry', 'cherry', 'orange']\n",
      "3\n"
     ]
    }
   ],
   "source": [
    "# 리스트 생성\n",
    "fruits = [\"apple\", \"banana\", \"cherry\"]\n",
    "\n",
    "# 리스트 요소 접근\n",
    "print(fruits[0])  # apple\n",
    "\n",
    "# 리스트 요소 변경\n",
    "fruits[1] = \"blueberry\"\n",
    "print(fruits)  # ['apple', 'blueberry', 'cherry']\n",
    "\n",
    "# 리스트에 요소 추가\n",
    "fruits.append(\"orange\")\n",
    "print(fruits)  # ['apple', 'blueberry', 'cherry', 'orange']\n",
    "\n",
    "# 리스트에서 요소 제거\n",
    "fruits.remove(\"apple\")\n",
    "print(fruits)  # ['blueberry', 'cherry', 'orange']\n",
    "\n",
    "# 리스트 길이 확인\n",
    "print(len(fruits))  # 3"
   ]
  },
  {
   "cell_type": "markdown",
   "id": "d94ff476",
   "metadata": {},
   "source": [
    "### 리스트의 메소드"
   ]
  },
  {
   "cell_type": "code",
   "execution_count": 6,
   "id": "5da83e28",
   "metadata": {},
   "outputs": [
    {
     "name": "stdout",
     "output_type": "stream",
     "text": [
      "[1, 2, 3, 4, 5, 6]\n",
      "[1, 2, 2.5, 3, 4, 5, 6]\n",
      "[1, 2, 2.5, 4, 5, 6]\n",
      "[1, 2, 2.5, 4, 5, 6]\n",
      "[6, 5, 4, 2.5, 2, 1]\n"
     ]
    }
   ],
   "source": [
    "numbers = [1, 2, 3, 4, 5]\n",
    "\n",
    "# 요소 추가\n",
    "numbers.append(6)\n",
    "print(numbers)  # [1, 2, 3, 4, 5, 6]\n",
    "\n",
    "# 요소 삽입\n",
    "numbers.insert(2, 2.5)\n",
    "print(numbers)  # [1, 2, 2.5, 3, 4, 5, 6]\n",
    "\n",
    "# 요소 제거\n",
    "numbers.pop(3)\n",
    "print(numbers)  # [1, 2, 2.5, 4, 5, 6]\n",
    "\n",
    "# 리스트 정렬\n",
    "numbers.sort()\n",
    "print(numbers)  # [1, 2, 2.5, 4, 5, 6]\n",
    "\n",
    "# 리스트 반전\n",
    "numbers.reverse()\n",
    "print(numbers)  # [6, 5, 4, 2.5, 2, 1]"
   ]
  },
  {
   "cell_type": "markdown",
   "id": "7ab0f110",
   "metadata": {},
   "source": [
    "### 튜플(Tuple)\n",
    "- 튜플은 순서가 있는 변경 불가능한 데이터 구조로, 다양한 데이터 타입을 포함할 수 있습니다."
   ]
  },
  {
   "cell_type": "code",
   "execution_count": 1,
   "id": "4ac206db",
   "metadata": {},
   "outputs": [
    {
     "name": "stdout",
     "output_type": "stream",
     "text": [
      "10\n",
      "2\n"
     ]
    }
   ],
   "source": [
    "# 튜플 생성\n",
    "coordinates = (10, 20)\n",
    "\n",
    "# 튜플 요소 접근\n",
    "print(coordinates[0])  # 10\n",
    "\n",
    "# 튜플의 불변성 확인\n",
    "# coordinates[0] = 15  # 오류 발생: 튜플은 변경 불가능\n",
    "\n",
    "# 튜플 길이 확인\n",
    "print(len(coordinates))  # 2"
   ]
  },
  {
   "cell_type": "markdown",
   "id": "0288a716",
   "metadata": {},
   "source": [
    "### 딕셔너리(Dictionary)\n",
    "- 딕셔너리는 키-값 쌍으로 이루어진 데이터 구조로, 순서가 없고 변경 가능합니다."
   ]
  },
  {
   "cell_type": "code",
   "execution_count": 2,
   "id": "aa81bc80",
   "metadata": {},
   "outputs": [
    {
     "name": "stdout",
     "output_type": "stream",
     "text": [
      "John\n",
      "{'name': 'John', 'age': 21, 'courses': ['Math', 'Science'], 'grade': 'A'}\n",
      "{'name': 'John', 'age': 21, 'grade': 'A'}\n",
      "dict_keys(['name', 'age', 'grade'])\n",
      "dict_values(['John', 21, 'A'])\n",
      "dict_items([('name', 'John'), ('age', 21), ('grade', 'A')])\n",
      "Not enrolled\n"
     ]
    }
   ],
   "source": [
    "# 딕셔너리 생성\n",
    "student = {\n",
    "    \"name\": \"John\",\n",
    "    \"age\": 20,\n",
    "    \"courses\": [\"Math\", \"Science\"]\n",
    "}\n",
    "\n",
    "# 딕셔너리 요소 접근\n",
    "print(student[\"name\"])  # John\n",
    "\n",
    "# 딕셔너리 요소 추가 및 변경\n",
    "student[\"age\"] = 21\n",
    "student[\"grade\"] = \"A\"\n",
    "print(student)  # {'name': 'John', 'age': 21, 'courses': ['Math', 'Science'], 'grade': 'A'}\n",
    "\n",
    "# 딕셔너리 요소 제거\n",
    "del student[\"courses\"]\n",
    "print(student)  # {'name': 'John', 'age': 21, 'grade': 'A'}\n",
    "\n",
    "# 딕셔너리 키 목록\n",
    "print(student.keys())  # dict_keys(['name', 'age', 'grade'])\n",
    "\n",
    "# 딕셔너리 값 목록\n",
    "print(student.values())  # dict_values(['John', 21, 'A'])\n",
    "\n",
    "# 딕셔너리 키-값 쌍 목록\n",
    "print(student.items())  # dict_items([('name', 'John'), ('age', 21), ('grade', 'A']))\n",
    "\n",
    "# 딕셔너리 요소 가져오기 (기본값 지정)\n",
    "print(student.get(\"courses\", \"Not enrolled\"))  # Not enrolled"
   ]
  },
  {
   "cell_type": "markdown",
   "id": "cbb306e1",
   "metadata": {},
   "source": [
    "### 집합(Set)\n",
    "- 집합은 순서가 없고 중복을 허용하지 않는 데이터 구조입니다."
   ]
  },
  {
   "cell_type": "code",
   "execution_count": null,
   "id": "794420bd",
   "metadata": {},
   "outputs": [],
   "source": [
    "# 집합 생성\n",
    "fruits_set = {\"apple\", \"banana\", \"cherry\"}\n",
    "\n",
    "# 집합에 요소 추가\n",
    "fruits_set.add(\"orange\")\n",
    "print(fruits_set)  # {'apple', 'banana', 'cherry', 'orange'}\n",
    "\n",
    "# 집합에서 요소 제거\n",
    "fruits_set.remove(\"banana\")\n",
    "print(fruits_set)  # {'apple', 'cherry', 'orange'}\n",
    "\n",
    "# 집합 간의 연산\n",
    "set1 = {1, 2, 3}\n",
    "set2 = {3, 4, 5}\n",
    "\n",
    "# 합집합\n",
    "print(set1 | set2)  # {1, 2, 3, 4, 5}\n",
    "\n",
    "# 교집합\n",
    "print(set1 & set2)  # {3}\n",
    "\n",
    "# 차집합\n",
    "print(set1 - set2)  # {1, 2}\n",
    "\n",
    "# 대칭 차집합\n",
    "print(set1 ^ set2)  # {1, 2, 4, 5}"
   ]
  }
 ],
 "metadata": {
  "kernelspec": {
   "display_name": ".venv",
   "language": "python",
   "name": "python3"
  },
  "language_info": {
   "codemirror_mode": {
    "name": "ipython",
    "version": 3
   },
   "file_extension": ".py",
   "mimetype": "text/x-python",
   "name": "python",
   "nbconvert_exporter": "python",
   "pygments_lexer": "ipython3",
   "version": "3.13.3"
  }
 },
 "nbformat": 4,
 "nbformat_minor": 5
}
