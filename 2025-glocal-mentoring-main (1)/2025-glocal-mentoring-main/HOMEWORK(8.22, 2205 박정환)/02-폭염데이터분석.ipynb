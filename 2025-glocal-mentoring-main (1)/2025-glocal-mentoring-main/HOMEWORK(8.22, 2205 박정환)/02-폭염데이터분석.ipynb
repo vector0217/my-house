{
 "cells": [
  {
   "cell_type": "markdown",
   "id": "b3c94c52",
   "metadata": {},
   "source": [
    "# 🌡️ 연도별 7월 폭염 데이터 분석 실습\n",
    "\n",
    "이 노트북은 여러 연도의 7월 폭염 데이터를 바탕으로 **연도별 평균 최고기온의 변화**를 분석하는 실습 예제입니다.\n",
    "\n",
    "## ✅ 실습 목표\n",
    "- 폭염 관련 `.csv` 데이터를 연도별로 통합한다.\n",
    "- `pandas`로 날짜 데이터를 처리하고 연도별로 그룹화한다.\n",
    "- `matplotlib`을 이용해 시계열 그래프로 시각화한다.\n",
    "\n",
    "---"
   ]
  },
  {
   "cell_type": "markdown",
   "id": "292643ba",
   "metadata": {},
   "source": [
    "## 🔧 Step 1. 라이브러리 불러오기"
   ]
  },
  {
   "cell_type": "code",
   "execution_count": 1,
   "id": "73d57b59",
   "metadata": {},
   "outputs": [],
   "source": [
    "import pandas as pd\n",
    "import matplotlib.pyplot as plt\n"
   ]
  },
  {
   "cell_type": "markdown",
   "id": "b9e51192",
   "metadata": {},
   "source": [
    "## 📂 Step 2. 데이터 파일 불러오기 및 연도 통합"
   ]
  },
  {
   "cell_type": "code",
   "execution_count": null,
   "id": "e14a53f1",
   "metadata": {},
   "outputs": [
    {
     "data": {
      "text/html": [
       "<div>\n",
       "<style scoped>\n",
       "    .dataframe tbody tr th:only-of-type {\n",
       "        vertical-align: middle;\n",
       "    }\n",
       "\n",
       "    .dataframe tbody tr th {\n",
       "        vertical-align: top;\n",
       "    }\n",
       "\n",
       "    .dataframe thead th {\n",
       "        text-align: right;\n",
       "    }\n",
       "</style>\n",
       "<table border=\"1\" class=\"dataframe\">\n",
       "  <thead>\n",
       "    <tr style=\"text-align: right;\">\n",
       "      <th></th>\n",
       "      <th>일시</th>\n",
       "      <th>지점</th>\n",
       "      <th>폭염여부(O/X)</th>\n",
       "      <th>최고체감온도(°C)</th>\n",
       "      <th>최고기온(°C)</th>\n",
       "      <th>평균기온(°C)</th>\n",
       "      <th>최저기온(°C)</th>\n",
       "      <th>평균상대습도(%)</th>\n",
       "      <th>폭염특보(O/X)</th>\n",
       "      <th>폭염영향예보(단계)</th>\n",
       "      <th>열대야(O/X)</th>\n",
       "      <th>자외선지수(단계)</th>\n",
       "      <th>연도</th>\n",
       "    </tr>\n",
       "  </thead>\n",
       "  <tbody>\n",
       "    <tr>\n",
       "      <th>0</th>\n",
       "      <td>2021-07-01</td>\n",
       "      <td>북강릉(104)</td>\n",
       "      <td>X</td>\n",
       "      <td>28.1</td>\n",
       "      <td>26.4</td>\n",
       "      <td>21.8</td>\n",
       "      <td>18.1</td>\n",
       "      <td>86.8</td>\n",
       "      <td>X</td>\n",
       "      <td></td>\n",
       "      <td>X</td>\n",
       "      <td>높음</td>\n",
       "      <td>2021</td>\n",
       "    </tr>\n",
       "    <tr>\n",
       "      <th>1</th>\n",
       "      <td>2021-07-01</td>\n",
       "      <td>동해(106)</td>\n",
       "      <td>X</td>\n",
       "      <td>27.4</td>\n",
       "      <td>25.2</td>\n",
       "      <td>21.9</td>\n",
       "      <td>19.1</td>\n",
       "      <td>90.0</td>\n",
       "      <td>X</td>\n",
       "      <td></td>\n",
       "      <td>X</td>\n",
       "      <td>매우높음</td>\n",
       "      <td>2021</td>\n",
       "    </tr>\n",
       "    <tr>\n",
       "      <th>2</th>\n",
       "      <td>2021-07-01</td>\n",
       "      <td>서울(108)</td>\n",
       "      <td>X</td>\n",
       "      <td>31.3</td>\n",
       "      <td>31.0</td>\n",
       "      <td>26.3</td>\n",
       "      <td>21.4</td>\n",
       "      <td>70.9</td>\n",
       "      <td>O</td>\n",
       "      <td>관심</td>\n",
       "      <td>X</td>\n",
       "      <td>매우높음</td>\n",
       "      <td>2021</td>\n",
       "    </tr>\n",
       "    <tr>\n",
       "      <th>3</th>\n",
       "      <td>2021-07-01</td>\n",
       "      <td>인천(112)</td>\n",
       "      <td>X</td>\n",
       "      <td>29.9</td>\n",
       "      <td>29.3</td>\n",
       "      <td>25.6</td>\n",
       "      <td>21.8</td>\n",
       "      <td>67.9</td>\n",
       "      <td>X</td>\n",
       "      <td>관심</td>\n",
       "      <td>X</td>\n",
       "      <td>매우높음</td>\n",
       "      <td>2021</td>\n",
       "    </tr>\n",
       "    <tr>\n",
       "      <th>4</th>\n",
       "      <td>2021-07-01</td>\n",
       "      <td>원주(114)</td>\n",
       "      <td>X</td>\n",
       "      <td>31.0</td>\n",
       "      <td>31.3</td>\n",
       "      <td>25.0</td>\n",
       "      <td>19.0</td>\n",
       "      <td>70.0</td>\n",
       "      <td>X</td>\n",
       "      <td>관심</td>\n",
       "      <td>X</td>\n",
       "      <td>높음</td>\n",
       "      <td>2021</td>\n",
       "    </tr>\n",
       "  </tbody>\n",
       "</table>\n",
       "</div>"
      ],
      "text/plain": [
       "          일시        지점 폭염여부(O/X)  최고체감온도(°C)  최고기온(°C)  평균기온(°C)  최저기온(°C)  \\\n",
       "0 2021-07-01  북강릉(104)         X        28.1      26.4      21.8      18.1   \n",
       "1 2021-07-01   동해(106)         X        27.4      25.2      21.9      19.1   \n",
       "2 2021-07-01   서울(108)         X        31.3      31.0      26.3      21.4   \n",
       "3 2021-07-01   인천(112)         X        29.9      29.3      25.6      21.8   \n",
       "4 2021-07-01   원주(114)         X        31.0      31.3      25.0      19.0   \n",
       "\n",
       "   평균상대습도(%) 폭염특보(O/X) 폭염영향예보(단계) 열대야(O/X) 자외선지수(단계)    연도  \n",
       "0       86.8         X                   X        높음  2021  \n",
       "1       90.0         X                   X      매우높음  2021  \n",
       "2       70.9         O         관심        X      매우높음  2021  \n",
       "3       67.9         X         관심        X      매우높음  2021  \n",
       "4       70.0         X         관심        X        높음  2021  "
      ]
     },
     "execution_count": 2,
     "metadata": {},
     "output_type": "execute_result"
    }
   ],
   "source": [
    "# 변환된 폭염 CSV 파일 리스트\n",
    "file_paths = [\n",
    "    \"heatwave_2021_07.csv\",\n",
    "    \"heatwave_2022_07.csv\",\n",
    "    \"heatwave_2023_07.csv\",\n",
    "    \"heatwave_2024_07.csv\",\n",
    "    \"heatwave_2025_07.csv\"\n",
    "]\n",
    "\n",
    "# 연도별 통합 데이터프레임 생성\n",
    "combined_df = pd.DataFrame()\n",
    "\n",
    "for path in file_paths:\n",
    "    df = pd.read_csv(path, encoding=\"utf-8-sig\")\n",
    "    df.columns = df.columns.str.strip()  # 공백 제거\n",
    "    if '일시' in df.columns:\n",
    "        df['일시'] = pd.to_datetime(df['일시'], errors='coerce')\n",
    "        df['연도'] = df['일시'].dt.year\n",
    "        combined_df = pd.concat([combined_df, df], ignore_index=True)\n",
    "\n",
    "combined_df.head() # 5개의 연도별 데이터셋 csv 파일을 통합하여 dataframe 으로 변환 후 앞부분만 출력"
   ]
  },
  {
   "cell_type": "markdown",
   "id": "79d9b74f",
   "metadata": {},
   "source": [
    "## 📊 Step 3. 연도별 평균 최고기온 계산"
   ]
  },
  {
   "cell_type": "code",
   "execution_count": null,
   "id": "857c1411",
   "metadata": {},
   "outputs": [
    {
     "data": {
      "text/html": [
       "<div>\n",
       "<style scoped>\n",
       "    .dataframe tbody tr th:only-of-type {\n",
       "        vertical-align: middle;\n",
       "    }\n",
       "\n",
       "    .dataframe tbody tr th {\n",
       "        vertical-align: top;\n",
       "    }\n",
       "\n",
       "    .dataframe thead th {\n",
       "        text-align: right;\n",
       "    }\n",
       "</style>\n",
       "<table border=\"1\" class=\"dataframe\">\n",
       "  <thead>\n",
       "    <tr style=\"text-align: right;\">\n",
       "      <th></th>\n",
       "      <th>연도</th>\n",
       "      <th>최고기온(°C)</th>\n",
       "    </tr>\n",
       "  </thead>\n",
       "  <tbody>\n",
       "    <tr>\n",
       "      <th>0</th>\n",
       "      <td>2021</td>\n",
       "      <td>31.324114</td>\n",
       "    </tr>\n",
       "    <tr>\n",
       "      <th>1</th>\n",
       "      <td>2022</td>\n",
       "      <td>30.675212</td>\n",
       "    </tr>\n",
       "    <tr>\n",
       "      <th>2</th>\n",
       "      <td>2023</td>\n",
       "      <td>29.926262</td>\n",
       "    </tr>\n",
       "    <tr>\n",
       "      <th>3</th>\n",
       "      <td>2024</td>\n",
       "      <td>30.469438</td>\n",
       "    </tr>\n",
       "    <tr>\n",
       "      <th>4</th>\n",
       "      <td>2025</td>\n",
       "      <td>33.070351</td>\n",
       "    </tr>\n",
       "  </tbody>\n",
       "</table>\n",
       "</div>"
      ],
      "text/plain": [
       "     연도   최고기온(°C)\n",
       "0  2021  31.324114\n",
       "1  2022  30.675212\n",
       "2  2023  29.926262\n",
       "3  2024  30.469438\n",
       "4  2025  33.070351"
      ]
     },
     "execution_count": 3,
     "metadata": {},
     "output_type": "execute_result"
    }
   ],
   "source": [
    "# 최고기온 열이 존재하는지 확인하고 평균 계산\n",
    "if '최고기온(°C)' in combined_df.columns:\n",
    "    grouped = combined_df.groupby('연도')['최고기온(°C)'].mean().reset_index() #연도별 7월 최고기온 열의 평균값 계산\n",
    "else:\n",
    "    print(\"⚠️ '최고기온(°C)' 열이 존재하지 않습니다.\")\n",
    "grouped.head() # 계산된 dataframe의 앞부분만 출력\n",
    "'''\n",
    "  출력해보면, 2025년이 제일 덥네요 정말...\n",
    "'''"
   ]
  },
  {
   "cell_type": "markdown",
   "id": "e247f3fd",
   "metadata": {},
   "source": [
    "## 📈 Step 4. 시계열 그래프 시각화"
   ]
  },
  {
   "cell_type": "code",
   "execution_count": 21,
   "id": "4d051934",
   "metadata": {},
   "outputs": [
    {
     "data": {
      "image/png": "[encoded data removed]",
      "text/plain": [
       "<Figure size 1200x600 with 1 Axes>"
      ]
     },
     "metadata": {},
     "output_type": "display_data"
    }
   ],
   "source": [
    "# 연도별 평균 최고기온 시각화 (영문 버전)\n",
    "plt.figure(figsize=(12, 6))\n",
    "plt.plot(grouped['연도'], grouped['최고기온(°C)'], marker='o', color='tomato')\n",
    "plt.title(\"Average Max Temperature in July by Year\", fontsize=15)\n",
    "plt.xlabel(\"Year\")\n",
    "plt.ylabel(\"Average Max Temperature (°C)\")\n",
    "plt.xticks(range(2021, 2026))\n",
    "plt.grid(True)\n",
    "plt.tight_layout()\n",
    "plt.show()"
   ]
  },
  {
   "cell_type": "markdown",
   "id": "143e9701",
   "metadata": {},
   "source": [
    "## 🔍 추가 탐구 과제\n",
    "- 폭염 여부(`폭염여부(O/X)`)가 'O'인 날의 개수를 연도별로 비교해보세요.\n",
    "- 열대야 발생 여부(`열대야(O/X)`)의 빈도를 연도별로 확인해보세요.\n",
    "- `폭염특보(O/X)` 비율이나 `자외선지수(단계)`의 평균 등도 함께 분석할 수 있습니다."
   ]
  }
 ],
 "metadata": {
  "kernelspec": {
   "display_name": ".venv",
   "language": "python",
   "name": "python3"
  },
  "language_info": {
   "codemirror_mode": {
    "name": "ipython",
    "version": 3
   },
   "file_extension": ".py",
   "mimetype": "text/x-python",
   "name": "python",
   "nbconvert_exporter": "python",
   "pygments_lexer": "ipython3",
   "version": "3.11.9"
  }
 },
 "nbformat": 4,
 "nbformat_minor": 5
}
